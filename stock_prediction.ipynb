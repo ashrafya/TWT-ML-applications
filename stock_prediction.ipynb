{
  "nbformat": 4,
  "nbformat_minor": 0,
  "metadata": {
    "colab": {
      "name": "stock_prediction.py",
      "provenance": [],
      "collapsed_sections": [],
      "authorship_tag": "ABX9TyPic9FUJ4UZpvmtireHWF5v",
      "include_colab_link": true
    },
    "kernelspec": {
      "name": "python3",
      "display_name": "Python 3"
    }
  },
  "cells": [
    {
      "cell_type": "markdown",
      "metadata": {
        "id": "view-in-github",
        "colab_type": "text"
      },
      "source": [
        "<a href=\"https://colab.research.google.com/github/ashrafya/TWT-ML-applications/blob/master/stock_prediction.ipynb\" target=\"_parent\"><img src=\"https://colab.research.google.com/assets/colab-badge.svg\" alt=\"Open In Colab\"/></a>"
      ]
    },
    {
      "cell_type": "code",
      "metadata": {
        "id": "hKSYFbr0km_E",
        "colab_type": "code",
        "colab": {
          "base_uri": "https://localhost:8080/",
          "height": 67
        },
        "outputId": "849ba842-1ab7-45ec-da06-45818ef42845"
      },
      "source": [
        "import math\n",
        "import pandas_datareader as web\n",
        "import numpy as np\n",
        "import pandas as pd\n",
        "from sklearn.preprocessing import MinMaxScaler\n",
        "from keras.models import Sequential\n",
        "from keras.layers import Dense, LSTM\n",
        "import matplotlib.pyplot as plt\n",
        "plt.style.use('ggplot')\n",
        "global days\n",
        "days = 40"
      ],
      "execution_count": 1,
      "outputs": [
        {
          "output_type": "stream",
          "text": [
            "/usr/local/lib/python3.6/dist-packages/pandas_datareader/compat/__init__.py:7: FutureWarning: pandas.util.testing is deprecated. Use the functions in the public API at pandas.testing instead.\n",
            "  from pandas.util.testing import assert_frame_equal\n",
            "Using TensorFlow backend.\n"
          ],
          "name": "stderr"
        }
      ]
    },
    {
      "cell_type": "code",
      "metadata": {
        "id": "8NpNblTRoR3X",
        "colab_type": "code",
        "outputId": "9963ba15-1be6-4b91-ccc8-f4446d01c708",
        "colab": {
          "base_uri": "https://localhost:8080/",
          "height": 444
        }
      },
      "source": [
        "#get the stock quote for teh company\n",
        "\n",
        "quotes = web.DataReader('AAPL', data_source = 'yahoo', start = '2005-01-01', end = '2020-05-01')\n",
        "\n",
        "#show data\n",
        "quotes\n"
      ],
      "execution_count": 2,
      "outputs": [
        {
          "output_type": "execute_result",
          "data": {
            "text/html": [
              "<div>\n",
              "<style scoped>\n",
              "    .dataframe tbody tr th:only-of-type {\n",
              "        vertical-align: middle;\n",
              "    }\n",
              "\n",
              "    .dataframe tbody tr th {\n",
              "        vertical-align: top;\n",
              "    }\n",
              "\n",
              "    .dataframe thead th {\n",
              "        text-align: right;\n",
              "    }\n",
              "</style>\n",
              "<table border=\"1\" class=\"dataframe\">\n",
              "  <thead>\n",
              "    <tr style=\"text-align: right;\">\n",
              "      <th></th>\n",
              "      <th>High</th>\n",
              "      <th>Low</th>\n",
              "      <th>Open</th>\n",
              "      <th>Close</th>\n",
              "      <th>Volume</th>\n",
              "      <th>Adj Close</th>\n",
              "    </tr>\n",
              "    <tr>\n",
              "      <th>Date</th>\n",
              "      <th></th>\n",
              "      <th></th>\n",
              "      <th></th>\n",
              "      <th></th>\n",
              "      <th></th>\n",
              "      <th></th>\n",
              "    </tr>\n",
              "  </thead>\n",
              "  <tbody>\n",
              "    <tr>\n",
              "      <th>2005-01-03</th>\n",
              "      <td>4.650714</td>\n",
              "      <td>4.471428</td>\n",
              "      <td>4.627143</td>\n",
              "      <td>4.520714</td>\n",
              "      <td>172998000.0</td>\n",
              "      <td>3.913571</td>\n",
              "    </tr>\n",
              "    <tr>\n",
              "      <th>2005-01-04</th>\n",
              "      <td>4.676429</td>\n",
              "      <td>4.497857</td>\n",
              "      <td>4.556428</td>\n",
              "      <td>4.567143</td>\n",
              "      <td>274202600.0</td>\n",
              "      <td>3.953765</td>\n",
              "    </tr>\n",
              "    <tr>\n",
              "      <th>2005-01-05</th>\n",
              "      <td>4.660714</td>\n",
              "      <td>4.575000</td>\n",
              "      <td>4.604286</td>\n",
              "      <td>4.607143</td>\n",
              "      <td>170108400.0</td>\n",
              "      <td>3.988392</td>\n",
              "    </tr>\n",
              "    <tr>\n",
              "      <th>2005-01-06</th>\n",
              "      <td>4.636428</td>\n",
              "      <td>4.523571</td>\n",
              "      <td>4.619286</td>\n",
              "      <td>4.610714</td>\n",
              "      <td>176388800.0</td>\n",
              "      <td>3.991483</td>\n",
              "    </tr>\n",
              "    <tr>\n",
              "      <th>2005-01-07</th>\n",
              "      <td>4.973571</td>\n",
              "      <td>4.625000</td>\n",
              "      <td>4.642857</td>\n",
              "      <td>4.946429</td>\n",
              "      <td>556862600.0</td>\n",
              "      <td>4.282110</td>\n",
              "    </tr>\n",
              "    <tr>\n",
              "      <th>...</th>\n",
              "      <td>...</td>\n",
              "      <td>...</td>\n",
              "      <td>...</td>\n",
              "      <td>...</td>\n",
              "      <td>...</td>\n",
              "      <td>...</td>\n",
              "    </tr>\n",
              "    <tr>\n",
              "      <th>2020-04-27</th>\n",
              "      <td>284.540009</td>\n",
              "      <td>279.950012</td>\n",
              "      <td>281.799988</td>\n",
              "      <td>283.170013</td>\n",
              "      <td>29271900.0</td>\n",
              "      <td>282.405548</td>\n",
              "    </tr>\n",
              "    <tr>\n",
              "      <th>2020-04-28</th>\n",
              "      <td>285.829987</td>\n",
              "      <td>278.200012</td>\n",
              "      <td>285.079987</td>\n",
              "      <td>278.579987</td>\n",
              "      <td>28001200.0</td>\n",
              "      <td>277.827911</td>\n",
              "    </tr>\n",
              "    <tr>\n",
              "      <th>2020-04-29</th>\n",
              "      <td>289.670013</td>\n",
              "      <td>283.890015</td>\n",
              "      <td>284.730011</td>\n",
              "      <td>287.730011</td>\n",
              "      <td>34320200.0</td>\n",
              "      <td>286.953247</td>\n",
              "    </tr>\n",
              "    <tr>\n",
              "      <th>2020-04-30</th>\n",
              "      <td>294.529999</td>\n",
              "      <td>288.350006</td>\n",
              "      <td>289.959991</td>\n",
              "      <td>293.799988</td>\n",
              "      <td>45766000.0</td>\n",
              "      <td>293.006836</td>\n",
              "    </tr>\n",
              "    <tr>\n",
              "      <th>2020-05-01</th>\n",
              "      <td>299.000000</td>\n",
              "      <td>285.850006</td>\n",
              "      <td>286.250000</td>\n",
              "      <td>289.070007</td>\n",
              "      <td>60154200.0</td>\n",
              "      <td>288.289612</td>\n",
              "    </tr>\n",
              "  </tbody>\n",
              "</table>\n",
              "<p>3859 rows × 6 columns</p>\n",
              "</div>"
            ],
            "text/plain": [
              "                  High         Low  ...       Volume   Adj Close\n",
              "Date                                ...                         \n",
              "2005-01-03    4.650714    4.471428  ...  172998000.0    3.913571\n",
              "2005-01-04    4.676429    4.497857  ...  274202600.0    3.953765\n",
              "2005-01-05    4.660714    4.575000  ...  170108400.0    3.988392\n",
              "2005-01-06    4.636428    4.523571  ...  176388800.0    3.991483\n",
              "2005-01-07    4.973571    4.625000  ...  556862600.0    4.282110\n",
              "...                ...         ...  ...          ...         ...\n",
              "2020-04-27  284.540009  279.950012  ...   29271900.0  282.405548\n",
              "2020-04-28  285.829987  278.200012  ...   28001200.0  277.827911\n",
              "2020-04-29  289.670013  283.890015  ...   34320200.0  286.953247\n",
              "2020-04-30  294.529999  288.350006  ...   45766000.0  293.006836\n",
              "2020-05-01  299.000000  285.850006  ...   60154200.0  288.289612\n",
              "\n",
              "[3859 rows x 6 columns]"
            ]
          },
          "metadata": {
            "tags": []
          },
          "execution_count": 2
        }
      ]
    },
    {
      "cell_type": "code",
      "metadata": {
        "id": "NJlF0REqpe8e",
        "colab_type": "code",
        "outputId": "107bd52c-a794-4d7e-d7bd-6e91e7fa0571",
        "colab": {
          "base_uri": "https://localhost:8080/",
          "height": 522
        }
      },
      "source": [
        "#visualize the closing proce of the stock history\n",
        "plt.figure(figsize = (16,8))\n",
        "plt.title('close price history MCD')\n",
        "plt.plot(quotes['Close'])\n",
        "plt.xlabel('Date', fontsize =18)\n",
        "plt.ylabel('closed USD price ($)', fontsize =18)\n",
        "plt.show()\n"
      ],
      "execution_count": 3,
      "outputs": [
        {
          "output_type": "display_data",
          "data": {
            "image/png": "[encoded data removed]",
            "text/plain": [
              "<Figure size 1152x576 with 1 Axes>"
            ]
          },
          "metadata": {
            "tags": [],
            "needs_background": "light"
          }
        }
      ]
    },
    {
      "cell_type": "code",
      "metadata": {
        "id": "IQEMZ3shqiRW",
        "colab_type": "code",
        "outputId": "4c47b037-a842-43d8-e69e-8c6cc76a2e6f",
        "colab": {
          "base_uri": "https://localhost:8080/",
          "height": 34
        }
      },
      "source": [
        "#create a new dataframe with only the close column\n",
        "data =  quotes.filter(['Close'])\n",
        "                      \n",
        "#covert data to numpy array\n",
        "dataset = data.values\n",
        "\n",
        "\n",
        "#get number of rows to train the data on\n",
        "train_data_len = math.ceil(len(dataset)*0.9)\n",
        "\n",
        "print(train_data_len)"
      ],
      "execution_count": 4,
      "outputs": [
        {
          "output_type": "stream",
          "text": [
            "3474\n"
          ],
          "name": "stdout"
        }
      ]
    },
    {
      "cell_type": "code",
      "metadata": {
        "id": "ySnPyeR7q2hN",
        "colab_type": "code",
        "colab": {}
      },
      "source": [
        "#scale the data\n",
        "scaler = MinMaxScaler(feature_range=(0,1))\n",
        "scaled_data = scaler.fit_transform(dataset)"
      ],
      "execution_count": 0,
      "outputs": []
    },
    {
      "cell_type": "code",
      "metadata": {
        "id": "VsVAICinsN-a",
        "colab_type": "code",
        "outputId": "763380bb-cbe2-4bc5-eb8c-f0db9b407c21",
        "colab": {
          "base_uri": "https://localhost:8080/",
          "height": 152
        }
      },
      "source": [
        "#create the training dataset\n",
        "#also create the scaled training data set subsequently\n",
        "\n",
        "train_data = scaled_data[0:train_data_len,:]\n",
        "print(train_data)\n",
        "print(train_data.shape)\n",
        "\n",
        "#split into x and y training data sets\n",
        "\n",
        "x_train=[]\n",
        "y_train=[]\n",
        "\n",
        "for i in range(days, len(train_data)):\n",
        "  x_train.append(train_data[i-days:i,0])\n",
        "  y_train.append(train_data[i,0])\n",
        "  \n",
        "\n",
        "\n"
      ],
      "execution_count": 6,
      "outputs": [
        {
          "output_type": "stream",
          "text": [
            "[[0.00000000e+00]\n",
            " [1.43884906e-04]\n",
            " [2.67846877e-04]\n",
            " ...\n",
            " [6.74444506e-01]\n",
            " [6.71469442e-01]\n",
            " [6.55447348e-01]]\n",
            "(3474, 1)\n"
          ],
          "name": "stdout"
        }
      ]
    },
    {
      "cell_type": "code",
      "metadata": {
        "id": "Jg5XUA-gqC9W",
        "colab_type": "code",
        "outputId": "63a3ce1b-48bb-421d-fa9d-a38d14ec26a5",
        "colab": {
          "base_uri": "https://localhost:8080/",
          "height": 34
        }
      },
      "source": [
        "#convert the x_train and y_train to numpy arrays\n",
        "x_train, y_train = np.array(x_train), np.array(y_train)\n",
        "\n",
        "#reshape the data\n",
        "x_train = np.reshape(x_train,(x_train.shape[0], x_train.shape[1],1 ))\n",
        "x_train.shape"
      ],
      "execution_count": 7,
      "outputs": [
        {
          "output_type": "execute_result",
          "data": {
            "text/plain": [
              "(3434, 40, 1)"
            ]
          },
          "metadata": {
            "tags": []
          },
          "execution_count": 7
        }
      ]
    },
    {
      "cell_type": "code",
      "metadata": {
        "id": "_UGgUF9KrCSs",
        "colab_type": "code",
        "colab": {}
      },
      "source": [
        "#Build teh LSTM model\n",
        "model = Sequential()\n",
        "model.add(LSTM(50, return_sequences=True, input_shape=(x_train.shape[1],1)))\n",
        "model.add(LSTM(50, return_sequences=False))\n",
        "model.add(Dense(25))\n",
        "model.add(Dense(1))"
      ],
      "execution_count": 0,
      "outputs": []
    },
    {
      "cell_type": "code",
      "metadata": {
        "id": "7H9EvzuPryrg",
        "colab_type": "code",
        "colab": {}
      },
      "source": [
        "model.compile(optimizer='adam', loss='mean_squared_error')"
      ],
      "execution_count": 0,
      "outputs": []
    },
    {
      "cell_type": "code",
      "metadata": {
        "id": "HATfHgZisBqW",
        "colab_type": "code",
        "outputId": "8451655d-d457-4e61-b339-74801d8ef129",
        "colab": {
          "base_uri": "https://localhost:8080/",
          "height": 67
        }
      },
      "source": [
        "#train the model\n",
        "model.fit(x_train, y_train, batch_size=1, epochs=1)\n"
      ],
      "execution_count": 10,
      "outputs": [
        {
          "output_type": "stream",
          "text": [
            "Epoch 1/1\n",
            "3434/3434 [==============================] - 76s 22ms/step - loss: 3.9345e-04\n"
          ],
          "name": "stdout"
        },
        {
          "output_type": "execute_result",
          "data": {
            "text/plain": [
              "<keras.callbacks.callbacks.History at 0x7fe6c47ade48>"
            ]
          },
          "metadata": {
            "tags": []
          },
          "execution_count": 10
        }
      ]
    },
    {
      "cell_type": "code",
      "metadata": {
        "id": "b8JwQmfMyCIz",
        "colab_type": "code",
        "colab": {}
      },
      "source": [
        "#create testing data set\n",
        "test_data = scaled_data[train_data_len-days:,:]\n",
        "#create the data sets x_test and y_test\n",
        "x_test=[]\n",
        "y_test = dataset[train_data_len,:]\n",
        "for i in range(days, len(test_data)):\n",
        "  x_test.append(test_data[i-days:i,0])\n"
      ],
      "execution_count": 0,
      "outputs": []
    },
    {
      "cell_type": "code",
      "metadata": {
        "id": "4cex9SZB5San",
        "colab_type": "code",
        "outputId": "9c687919-4fd2-4832-9b74-630c04d41366",
        "colab": {
          "base_uri": "https://localhost:8080/",
          "height": 34
        }
      },
      "source": [
        "#convert data to  a numpy array\n",
        "x_test = np.array(x_test)\n",
        "x_test.shape"
      ],
      "execution_count": 12,
      "outputs": [
        {
          "output_type": "execute_result",
          "data": {
            "text/plain": [
              "(385, 40)"
            ]
          },
          "metadata": {
            "tags": []
          },
          "execution_count": 12
        }
      ]
    },
    {
      "cell_type": "code",
      "metadata": {
        "id": "bKkRS2Po5YkU",
        "colab_type": "code",
        "colab": {}
      },
      "source": [
        "#reshape the data to 3D\n",
        "x_test = np.reshape(x_test, (x_test.shape[0], x_test.shape[1], 1))"
      ],
      "execution_count": 0,
      "outputs": []
    },
    {
      "cell_type": "code",
      "metadata": {
        "id": "kgTjuwtM62YX",
        "colab_type": "code",
        "colab": {}
      },
      "source": [
        "#get the models predicted price values\n",
        "predictions = model.predict(x_test)\n",
        "predictions = scaler.inverse_transform(predictions)\n",
        "\n"
      ],
      "execution_count": 0,
      "outputs": []
    },
    {
      "cell_type": "code",
      "metadata": {
        "id": "Yq2FGliS7MHT",
        "colab_type": "code",
        "outputId": "1cd6fc91-1440-4524-daa0-f4796583718d",
        "colab": {
          "base_uri": "https://localhost:8080/",
          "height": 34
        }
      },
      "source": [
        "#get the root mean squared error (RMSE)\n",
        "rmse = (np.sqrt(np.mean(((predictions- y_test)**2))))\n",
        "rmse"
      ],
      "execution_count": 15,
      "outputs": [
        {
          "output_type": "execute_result",
          "data": {
            "text/plain": [
              "44.80023907290905"
            ]
          },
          "metadata": {
            "tags": []
          },
          "execution_count": 15
        }
      ]
    },
    {
      "cell_type": "code",
      "metadata": {
        "id": "mlCRcHDR9QLK",
        "colab_type": "code",
        "outputId": "d351501c-e1ec-49b1-b010-2267232cdfc3",
        "colab": {
          "base_uri": "https://localhost:8080/",
          "height": 623
        }
      },
      "source": [
        "#plot the data\n",
        "train = data [:train_data_len]\n",
        "valid = data[train_data_len:]\n",
        "valid['Predictions']=predictions\n",
        "\n",
        "#visualize model/data\n",
        "plt.figure(figsize=(16,8))\n",
        "plt.title('MOdel of predicted APPle close price in USD')\n",
        "plt.xlabel('Date', fontsize=18)\n",
        "plt.ylabel('Close Price USD($)', fontsize=18)\n",
        "plt.plot(train['Close'])\n",
        "plt.plot(valid[['Close', 'Predictions']])\n",
        "plt.legend(['Train', 'Val', 'Predictions'], loc='lower right')\n",
        "plt.show()\n"
      ],
      "execution_count": 16,
      "outputs": [
        {
          "output_type": "stream",
          "text": [
            "/usr/local/lib/python3.6/dist-packages/ipykernel_launcher.py:4: SettingWithCopyWarning: \n",
            "A value is trying to be set on a copy of a slice from a DataFrame.\n",
            "Try using .loc[row_indexer,col_indexer] = value instead\n",
            "\n",
            "See the caveats in the documentation: https://pandas.pydata.org/pandas-docs/stable/user_guide/indexing.html#returning-a-view-versus-a-copy\n",
            "  after removing the cwd from sys.path.\n"
          ],
          "name": "stderr"
        },
        {
          "output_type": "display_data",
          "data": {
            "image/png": "[encoded data removed]",
            "text/plain": [
              "<Figure size 1152x576 with 1 Axes>"
            ]
          },
          "metadata": {
            "tags": [],
            "needs_background": "light"
          }
        }
      ]
    },
    {
      "cell_type": "code",
      "metadata": {
        "id": "Ef3Lzqex_giI",
        "colab_type": "code",
        "outputId": "673d17e3-08dc-4206-9e9b-3580a06254bd",
        "colab": {
          "base_uri": "https://localhost:8080/",
          "height": 67
        }
      },
      "source": [
        "print(valid['Close'][30] )\n",
        "print(valid['Predictions'][30])\n",
        "32.299056502120834-28.43409409504"
      ],
      "execution_count": 17,
      "outputs": [
        {
          "output_type": "stream",
          "text": [
            "184.82000732421875\n",
            "169.01695\n"
          ],
          "name": "stdout"
        },
        {
          "output_type": "execute_result",
          "data": {
            "text/plain": [
              "3.864962407080835"
            ]
          },
          "metadata": {
            "tags": []
          },
          "execution_count": 17
        }
      ]
    },
    {
      "cell_type": "markdown",
      "metadata": {
        "id": "eXaUIJwM4trH",
        "colab_type": "text"
      },
      "source": [
        ""
      ]
    }
  ]
}